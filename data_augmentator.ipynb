{
  "nbformat": 4,
  "nbformat_minor": 0,
  "metadata": {
    "colab": {
      "provenance": []
    },
    "kernelspec": {
      "name": "python3",
      "display_name": "Python 3"
    },
    "language_info": {
      "name": "python"
    }
  },
  "cells": [
    {
      "cell_type": "code",
      "source": [
        "from google.colab import drive\n",
        "drive.mount('/content/drive')\n",
        "from glob import glob\n",
        "from PIL import Image\n",
        "from numpy import asarray\n",
        "import numpy as np"
      ],
      "metadata": {
        "id": "rLDZjJhlR6ig"
      },
      "execution_count": null,
      "outputs": []
    },
    {
      "cell_type": "code",
      "source": [
        "frompath = 'add-path-to-orginal-data-set-here'\n",
        "topath = 'add-path-to-save-augmented-data-set-here'\n",
        "folder = 'add-a-folder-name'\n",
        "topath = topath + '/' + folder + '/'\n",
        "\n",
        "images=glob(frompath+'/*')\n",
        "c=0\n",
        "\n",
        "for path in images:\n",
        "  img=Image.open(path)\n",
        "  img=img. resize((224,224))\n",
        "  img.save(topath+str(c)+' .jpg')\n",
        "  c+=1\n",
        "  mirimg=img.transpose(Image.FLIP_LEFT_RIGHT)\n",
        "  mirimg.save(topath+str(c)+'.jpg')\n",
        "  c+=1\n",
        "  rotimg=img.rotate(90, Image.NEAREST, expand = 1)\n",
        "  rotimg.save(topath+str(c)+'.jpg')\n",
        "  c+=1\n",
        "  mirrotimg=rotimg.transpose(Image.FLIP_LEFT_RIGHT)\n",
        "  mirrotimg.save(topath+str (c)+ '.jpg')\n",
        "  c+=1"
      ],
      "metadata": {
        "id": "CzDNX7FKjOs3"
      },
      "execution_count": null,
      "outputs": []
    }
  ]
}